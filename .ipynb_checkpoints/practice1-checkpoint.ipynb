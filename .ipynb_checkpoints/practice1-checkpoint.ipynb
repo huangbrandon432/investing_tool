{
 "cells": [
  {
   "cell_type": "code",
   "execution_count": 4,
   "metadata": {},
   "outputs": [],
   "source": [
    "import support1"
   ]
  },
  {
   "cell_type": "code",
   "execution_count": 3,
   "metadata": {},
   "outputs": [
    {
     "data": {
      "text/plain": [
       "[\"/Users/bhuang321/Desktop/Brandon's Stuff/Stocks/stocks\",\n",
       " '/Users/bhuang321/anaconda3/lib/python38.zip',\n",
       " '/Users/bhuang321/anaconda3/lib/python3.8',\n",
       " '/Users/bhuang321/anaconda3/lib/python3.8/lib-dynload',\n",
       " '',\n",
       " '/Users/bhuang321/anaconda3/lib/python3.8/site-packages',\n",
       " '/Users/bhuang321/anaconda3/lib/python3.8/site-packages/aeosa',\n",
       " '/Users/bhuang321/anaconda3/lib/python3.8/site-packages/IPython/extensions',\n",
       " '/Users/bhuang321/.ipython']"
      ]
     },
     "execution_count": 3,
     "metadata": {},
     "output_type": "execute_result"
    }
   ],
   "source": [
    "import sys\n",
    "sys.path"
   ]
  },
  {
   "cell_type": "code",
   "execution_count": 2,
   "metadata": {},
   "outputs": [
    {
     "ename": "NameError",
     "evalue": "name 'display_stock_history' is not defined",
     "output_type": "error",
     "traceback": [
      "\u001b[0;31m---------------------------------------------------------------------------\u001b[0m",
      "\u001b[0;31mNameError\u001b[0m                                 Traceback (most recent call last)",
      "\u001b[0;32m<ipython-input-2-cfde761147c9>\u001b[0m in \u001b[0;36m<module>\u001b[0;34m\u001b[0m\n\u001b[0;32m----> 1\u001b[0;31m \u001b[0mdisplay_stock_history\u001b[0m\u001b[0;34m(\u001b[0m\u001b[0mtsla\u001b[0m\u001b[0;34m)\u001b[0m\u001b[0;34m\u001b[0m\u001b[0;34m\u001b[0m\u001b[0m\n\u001b[0m",
      "\u001b[0;31mNameError\u001b[0m: name 'display_stock_history' is not defined"
     ]
    }
   ],
   "source": [
    "display_stock_history(tsla)"
   ]
  },
  {
   "cell_type": "code",
   "execution_count": null,
   "metadata": {},
   "outputs": [],
   "source": []
  }
 ],
 "metadata": {
  "kernelspec": {
   "display_name": "Python 3",
   "language": "python",
   "name": "python3"
  },
  "language_info": {
   "codemirror_mode": {
    "name": "ipython",
    "version": 3
   },
   "file_extension": ".py",
   "mimetype": "text/x-python",
   "name": "python",
   "nbconvert_exporter": "python",
   "pygments_lexer": "ipython3",
   "version": "3.8.3"
  }
 },
 "nbformat": 4,
 "nbformat_minor": 4
}
