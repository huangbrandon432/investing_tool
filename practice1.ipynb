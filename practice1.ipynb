{
 "cells": [
  {
   "cell_type": "code",
   "execution_count": 73,
   "metadata": {},
   "outputs": [],
   "source": [
    "import support1 as fin\n",
    "import pandas as pd\n",
    "import numpy as np\n",
    "import os\n",
    "import matplotlib.pyplot as plt\n",
    "from yahoofinancials import YahooFinancials\n",
    "import dill\n",
    "import re\n",
    "import requests\n",
    "from bs4 import BeautifulSoup\n",
    "import textwrap3\n",
    "import yfinance as yf\n",
    "import datetime"
   ]
  },
  {
   "cell_type": "code",
   "execution_count": 95,
   "metadata": {},
   "outputs": [
    {
     "data": {
      "text/plain": [
       "<module 'support1' from \"/Users/bhuang321/Desktop/Brandon's Stuff/Stocks/stocks/support1.py\">"
      ]
     },
     "execution_count": 95,
     "metadata": {},
     "output_type": "execute_result"
    }
   ],
   "source": [
    "import importlib\n",
    "importlib.reload(support1)"
   ]
  },
  {
   "cell_type": "code",
   "execution_count": 65,
   "metadata": {},
   "outputs": [],
   "source": [
    "tsla = fin.stock_history('tsla')"
   ]
  },
  {
   "cell_type": "markdown",
   "metadata": {},
   "source": [
    "days = datetime.timedelta(5)"
   ]
  },
  {
   "cell_type": "code",
   "execution_count": 97,
   "metadata": {},
   "outputs": [
    {
     "name": "stdout",
     "output_type": "stream",
     "text": [
      "2010-06-29 00:00:00\n",
      "2010-06-24 00:00:00\n"
     ]
    }
   ],
   "source": [
    "print(tsla.index[0])\n",
    "print(tsla.index[0] - days)"
   ]
  },
  {
   "cell_type": "code",
   "execution_count": 96,
   "metadata": {},
   "outputs": [
    {
     "data": {
      "image/png": "[encoded data removed]",
      "text/plain": [
       "<Figure size 1080x360 with 1 Axes>"
      ]
     },
     "metadata": {
      "needs_background": "light"
     },
     "output_type": "display_data"
    },
    {
     "name": "stdout",
     "output_type": "stream",
     "text": [
      "Return: 120.94%\n"
     ]
    }
   ],
   "source": [
    "fin.plot_history(tsla, start = '2020-06-23', end = '2020-08-28')"
   ]
  },
  {
   "cell_type": "code",
   "execution_count": 23,
   "metadata": {},
   "outputs": [
    {
     "data": {
      "text/plain": [
       "{'zip': '94304',\n",
       " 'sector': 'Consumer Cyclical',\n",
       " 'fullTimeEmployees': 48016,\n",
       " 'longBusinessSummary': 'Tesla, Inc. designs, develops, manufactures, leases, and sells electric vehicles, and energy generation and storage systems in the United States, China, Netherlands, Norway, and internationally. The company operates in two segments, Automotive; and Energy Generation and Storage. The Automotive segment offers sedans and sport utility vehicles. It also provides electric powertrain components and systems; and services for electric vehicles through its company-owned service locations, and Tesla mobile service technicians, as well as sells used vehicles. This segment markets and sells its products through a network of company-owned stores and galleries, as well as through its own Website. The Energy Generation and Storage segment offers energy storage products, such as rechargeable lithium-ion battery systems for use in homes, industrial, commercial facilities, and utility grids; and designs, manufactures, installs, maintains, leases, and sells solar energy generation and energy storage products to residential and commercial customers. It also provides vehicle insurance services, as well as renewable energy. The company was formerly known as Tesla Motors, Inc. and changed its name to Tesla, Inc. in February 2017. Tesla, Inc. was founded in 2003 and is headquartered in Palo Alto, California.',\n",
       " 'city': 'Palo Alto',\n",
       " 'phone': '650-681-5000',\n",
       " 'state': 'CA',\n",
       " 'country': 'United States',\n",
       " 'companyOfficers': [],\n",
       " 'website': 'http://www.tesla.com',\n",
       " 'maxAge': 1,\n",
       " 'address1': '3500 Deer Creek Road',\n",
       " 'industry': 'Auto Manufacturers',\n",
       " 'previousClose': 371.34,\n",
       " 'regularMarketOpen': 381.94,\n",
       " 'twoHundredDayAverage': 217.45537,\n",
       " 'trailingAnnualDividendYield': None,\n",
       " 'payoutRatio': 0,\n",
       " 'volume24Hr': None,\n",
       " 'regularMarketDayHigh': 382.5,\n",
       " 'navPrice': None,\n",
       " 'averageDailyVolume10Day': 90633485,\n",
       " 'totalAssets': None,\n",
       " 'regularMarketPreviousClose': 371.34,\n",
       " 'fiftyDayAverage': 357.70383,\n",
       " 'trailingAnnualDividendRate': None,\n",
       " 'open': 381.94,\n",
       " 'toCurrency': None,\n",
       " 'averageVolume10days': 90633485,\n",
       " 'expireDate': None,\n",
       " 'yield': None,\n",
       " 'algorithm': None,\n",
       " 'dividendRate': None,\n",
       " 'exDividendDate': None,\n",
       " 'beta': 1.6382379999999999,\n",
       " 'circulatingSupply': None,\n",
       " 'startDate': None,\n",
       " 'regularMarketDayLow': 360.5265,\n",
       " 'priceHint': 2,\n",
       " 'currency': 'USD',\n",
       " 'trailingPE': 965.5958,\n",
       " 'regularMarketVolume': 60717459,\n",
       " 'lastMarket': None,\n",
       " 'maxSupply': None,\n",
       " 'openInterest': None,\n",
       " 'marketCap': 347303870464,\n",
       " 'volumeAllCurrencies': None,\n",
       " 'strikePrice': None,\n",
       " 'averageVolume': 76389385,\n",
       " 'priceToSalesTrailing12Months': 13.509564,\n",
       " 'dayLow': 360.5265,\n",
       " 'ask': 373.75,\n",
       " 'ytdReturn': None,\n",
       " 'askSize': 1100,\n",
       " 'volume': 60717459,\n",
       " 'fiftyTwoWeekHigh': 502.49,\n",
       " 'forwardPE': 121.803925,\n",
       " 'fromCurrency': None,\n",
       " 'fiveYearAvgDividendYield': None,\n",
       " 'fiftyTwoWeekLow': 43.672,\n",
       " 'bid': 373.74,\n",
       " 'tradeable': False,\n",
       " 'dividendYield': None,\n",
       " 'bidSize': 2900,\n",
       " 'dayHigh': 382.5,\n",
       " 'exchange': 'NMS',\n",
       " 'shortName': 'Tesla, Inc.',\n",
       " 'longName': 'Tesla, Inc.',\n",
       " 'exchangeTimezoneName': 'America/New_York',\n",
       " 'exchangeTimezoneShortName': 'EDT',\n",
       " 'isEsgPopulated': False,\n",
       " 'gmtOffSetMilliseconds': '-14400000',\n",
       " 'quoteType': 'EQUITY',\n",
       " 'symbol': 'TSLA',\n",
       " 'messageBoardId': 'finmb_27444752',\n",
       " 'market': 'us_market',\n",
       " 'annualHoldingsTurnover': None,\n",
       " 'enterpriseToRevenue': 13.834,\n",
       " 'beta3Year': None,\n",
       " 'profitMargins': 0.0143099995,\n",
       " 'enterpriseToEbitda': 103.236,\n",
       " '52WeekChange': 6.675137,\n",
       " 'morningStarRiskRating': None,\n",
       " 'forwardEps': 3.06,\n",
       " 'revenueQuarterlyGrowth': None,\n",
       " 'sharesOutstanding': 931809024,\n",
       " 'fundInceptionDate': None,\n",
       " 'annualReportExpenseRatio': None,\n",
       " 'bookValue': 10.597,\n",
       " 'sharesShort': 54890314,\n",
       " 'sharesPercentSharesOut': 0.058800000000000005,\n",
       " 'fundFamily': None,\n",
       " 'lastFiscalYearEnd': 1577750400,\n",
       " 'heldPercentInstitutions': 0.5792700000000001,\n",
       " 'netIncomeToCommon': 376000000,\n",
       " 'trailingEps': 0.386,\n",
       " 'lastDividendValue': None,\n",
       " 'SandP52WeekChange': 0.11441445,\n",
       " 'priceToBook': 35.17222,\n",
       " 'heldPercentInsiders': 0.2051,\n",
       " 'nextFiscalYearEnd': 1640908800,\n",
       " 'mostRecentQuarter': 1593475200,\n",
       " 'shortRatio': 0.75,\n",
       " 'sharesShortPreviousMonthDate': 1596153600,\n",
       " 'floatShares': 742847158,\n",
       " 'enterpriseValue': 355647717376,\n",
       " 'threeYearAverageReturn': None,\n",
       " 'lastSplitDate': 1598832000,\n",
       " 'lastSplitFactor': '5:1',\n",
       " 'legalType': None,\n",
       " 'morningStarOverallRating': None,\n",
       " 'earningsQuarterlyGrowth': None,\n",
       " 'dateShortInterest': 1598832000,\n",
       " 'pegRatio': 0.65,\n",
       " 'lastCapGain': None,\n",
       " 'shortPercentOfFloat': 0.0736,\n",
       " 'sharesShortPriorMonth': 59726265,\n",
       " 'category': None,\n",
       " 'fiveYearAverageReturn': None,\n",
       " 'regularMarketPrice': 381.94,\n",
       " 'logo_url': 'https://logo.clearbit.com/tesla.com'}"
      ]
     },
     "execution_count": 23,
     "metadata": {},
     "output_type": "execute_result"
    }
   ],
   "source": [
    "tsla = yf.Ticker('tsla')\n",
    "tsla.info"
   ]
  },
  {
   "cell_type": "code",
   "execution_count": 79,
   "metadata": {},
   "outputs": [],
   "source": [
    "tsla2 = yf.Ticker('tsla')"
   ]
  },
  {
   "cell_type": "code",
   "execution_count": 106,
   "metadata": {},
   "outputs": [
    {
     "data": {
      "text/html": [
       "<div>\n",
       "<style scoped>\n",
       "    .dataframe tbody tr th:only-of-type {\n",
       "        vertical-align: middle;\n",
       "    }\n",
       "\n",
       "    .dataframe tbody tr th {\n",
       "        vertical-align: top;\n",
       "    }\n",
       "\n",
       "    .dataframe thead th {\n",
       "        text-align: right;\n",
       "    }\n",
       "</style>\n",
       "<table border=\"1\" class=\"dataframe\">\n",
       "  <thead>\n",
       "    <tr style=\"text-align: right;\">\n",
       "      <th></th>\n",
       "      <th>Firm</th>\n",
       "      <th>To Grade</th>\n",
       "      <th>From Grade</th>\n",
       "      <th>Action</th>\n",
       "    </tr>\n",
       "    <tr>\n",
       "      <th>Date</th>\n",
       "      <th></th>\n",
       "      <th></th>\n",
       "      <th></th>\n",
       "      <th></th>\n",
       "    </tr>\n",
       "  </thead>\n",
       "  <tbody>\n",
       "    <tr>\n",
       "      <th>2020-08-31 16:21:38</th>\n",
       "      <td>Argus Research</td>\n",
       "      <td>Buy</td>\n",
       "      <td></td>\n",
       "      <td>main</td>\n",
       "    </tr>\n",
       "    <tr>\n",
       "      <th>2020-09-01 15:57:05</th>\n",
       "      <td>RBC Capital</td>\n",
       "      <td>Underperform</td>\n",
       "      <td></td>\n",
       "      <td>main</td>\n",
       "    </tr>\n",
       "    <tr>\n",
       "      <th>2020-09-02 12:47:13</th>\n",
       "      <td>Bank of America</td>\n",
       "      <td>Neutral</td>\n",
       "      <td></td>\n",
       "      <td>reit</td>\n",
       "    </tr>\n",
       "    <tr>\n",
       "      <th>2020-09-04 14:57:35</th>\n",
       "      <td>Oppenheimer</td>\n",
       "      <td>Outperform</td>\n",
       "      <td></td>\n",
       "      <td>main</td>\n",
       "    </tr>\n",
       "    <tr>\n",
       "      <th>2020-09-11 12:25:28</th>\n",
       "      <td>UBS</td>\n",
       "      <td>Neutral</td>\n",
       "      <td></td>\n",
       "      <td>main</td>\n",
       "    </tr>\n",
       "  </tbody>\n",
       "</table>\n",
       "</div>"
      ],
      "text/plain": [
       "                                Firm      To Grade From Grade Action\n",
       "Date                                                                \n",
       "2020-08-31 16:21:38   Argus Research           Buy              main\n",
       "2020-09-01 15:57:05      RBC Capital  Underperform              main\n",
       "2020-09-02 12:47:13  Bank of America       Neutral              reit\n",
       "2020-09-04 14:57:35      Oppenheimer    Outperform              main\n",
       "2020-09-11 12:25:28              UBS       Neutral              main"
      ]
     },
     "execution_count": 106,
     "metadata": {},
     "output_type": "execute_result"
    }
   ],
   "source": [
    "tsla2.recommendations.tail(5)"
   ]
  },
  {
   "cell_type": "code",
   "execution_count": null,
   "metadata": {},
   "outputs": [],
   "source": []
  }
 ],
 "metadata": {
  "kernelspec": {
   "display_name": "Python 3",
   "language": "python",
   "name": "python3"
  },
  "language_info": {
   "codemirror_mode": {
    "name": "ipython",
    "version": 3
   },
   "file_extension": ".py",
   "mimetype": "text/x-python",
   "name": "python",
   "nbconvert_exporter": "python",
   "pygments_lexer": "ipython3",
   "version": "3.8.3"
  }
 },
 "nbformat": 4,
 "nbformat_minor": 4
}
